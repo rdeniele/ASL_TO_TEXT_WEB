{
  "cells": [
    {
      "cell_type": "markdown",
      "metadata": {
        "id": "TLyGGNWqob-I"
      },
      "source": [
        "#mount gdrive"
      ]
    },
    {
      "cell_type": "code",
      "execution_count": null,
      "metadata": {
        "colab": {
          "base_uri": "https://localhost:8080/"
        },
        "id": "14DYKVj3CBiT",
        "outputId": "5365c963-8e68-4aca-92c3-7ce923e64e8a"
      },
      "outputs": [
        {
          "output_type": "stream",
          "name": "stdout",
          "text": [
            "Drive already mounted at /content/drive; to attempt to forcibly remount, call drive.mount(\"/content/drive\", force_remount=True).\n"
          ]
        }
      ],
      "source": [
        "from google.colab import drive\n",
        "drive.mount('/content/drive')"
      ]
    },
    {
      "cell_type": "markdown",
      "metadata": {
        "id": "Jkl_cXdPogPo"
      },
      "source": [
        "#install library prerequisites"
      ]
    },
    {
      "cell_type": "code",
      "execution_count": null,
      "metadata": {
        "colab": {
          "base_uri": "https://localhost:8080/"
        },
        "id": "DrL3tlE5ECcu",
        "outputId": "55b7a28c-4f4f-4de3-ff96-5aac4f00ee9f"
      },
      "outputs": [
        {
          "output_type": "stream",
          "name": "stdout",
          "text": [
            "Requirement already satisfied: tensorflow in /usr/local/lib/python3.10/dist-packages (2.17.1)\n",
            "Requirement already satisfied: numpy in /usr/local/lib/python3.10/dist-packages (1.26.4)\n",
            "Requirement already satisfied: matplotlib in /usr/local/lib/python3.10/dist-packages (3.8.0)\n",
            "Requirement already satisfied: seaborn in /usr/local/lib/python3.10/dist-packages (0.13.2)\n",
            "Requirement already satisfied: scikit-learn in /usr/local/lib/python3.10/dist-packages (1.5.2)\n",
            "Requirement already satisfied: pillow in /usr/local/lib/python3.10/dist-packages (11.0.0)\n",
            "Requirement already satisfied: absl-py>=1.0.0 in /usr/local/lib/python3.10/dist-packages (from tensorflow) (1.4.0)\n",
            "Requirement already satisfied: astunparse>=1.6.0 in /usr/local/lib/python3.10/dist-packages (from tensorflow) (1.6.3)\n",
            "Requirement already satisfied: flatbuffers>=24.3.25 in /usr/local/lib/python3.10/dist-packages (from tensorflow) (24.3.25)\n",
            "Requirement already satisfied: gast!=0.5.0,!=0.5.1,!=0.5.2,>=0.2.1 in /usr/local/lib/python3.10/dist-packages (from tensorflow) (0.6.0)\n",
            "Requirement already satisfied: google-pasta>=0.1.1 in /usr/local/lib/python3.10/dist-packages (from tensorflow) (0.2.0)\n",
            "Requirement already satisfied: h5py>=3.10.0 in /usr/local/lib/python3.10/dist-packages (from tensorflow) (3.12.1)\n",
            "Requirement already satisfied: libclang>=13.0.0 in /usr/local/lib/python3.10/dist-packages (from tensorflow) (18.1.1)\n",
            "Requirement already satisfied: ml-dtypes<0.5.0,>=0.3.1 in /usr/local/lib/python3.10/dist-packages (from tensorflow) (0.4.1)\n",
            "Requirement already satisfied: opt-einsum>=2.3.2 in /usr/local/lib/python3.10/dist-packages (from tensorflow) (3.4.0)\n",
            "Requirement already satisfied: packaging in /usr/local/lib/python3.10/dist-packages (from tensorflow) (24.2)\n",
            "Requirement already satisfied: protobuf!=4.21.0,!=4.21.1,!=4.21.2,!=4.21.3,!=4.21.4,!=4.21.5,<5.0.0dev,>=3.20.3 in /usr/local/lib/python3.10/dist-packages (from tensorflow) (4.25.5)\n",
            "Requirement already satisfied: requests<3,>=2.21.0 in /usr/local/lib/python3.10/dist-packages (from tensorflow) (2.32.3)\n",
            "Requirement already satisfied: setuptools in /usr/local/lib/python3.10/dist-packages (from tensorflow) (75.1.0)\n",
            "Requirement already satisfied: six>=1.12.0 in /usr/local/lib/python3.10/dist-packages (from tensorflow) (1.16.0)\n",
            "Requirement already satisfied: termcolor>=1.1.0 in /usr/local/lib/python3.10/dist-packages (from tensorflow) (2.5.0)\n",
            "Requirement already satisfied: typing-extensions>=3.6.6 in /usr/local/lib/python3.10/dist-packages (from tensorflow) (4.12.2)\n",
            "Requirement already satisfied: wrapt>=1.11.0 in /usr/local/lib/python3.10/dist-packages (from tensorflow) (1.16.0)\n",
            "Requirement already satisfied: grpcio<2.0,>=1.24.3 in /usr/local/lib/python3.10/dist-packages (from tensorflow) (1.68.0)\n",
            "Requirement already satisfied: tensorboard<2.18,>=2.17 in /usr/local/lib/python3.10/dist-packages (from tensorflow) (2.17.1)\n",
            "Requirement already satisfied: keras>=3.2.0 in /usr/local/lib/python3.10/dist-packages (from tensorflow) (3.5.0)\n",
            "Requirement already satisfied: tensorflow-io-gcs-filesystem>=0.23.1 in /usr/local/lib/python3.10/dist-packages (from tensorflow) (0.37.1)\n",
            "Requirement already satisfied: contourpy>=1.0.1 in /usr/local/lib/python3.10/dist-packages (from matplotlib) (1.3.1)\n",
            "Requirement already satisfied: cycler>=0.10 in /usr/local/lib/python3.10/dist-packages (from matplotlib) (0.12.1)\n",
            "Requirement already satisfied: fonttools>=4.22.0 in /usr/local/lib/python3.10/dist-packages (from matplotlib) (4.55.0)\n",
            "Requirement already satisfied: kiwisolver>=1.0.1 in /usr/local/lib/python3.10/dist-packages (from matplotlib) (1.4.7)\n",
            "Requirement already satisfied: pyparsing>=2.3.1 in /usr/local/lib/python3.10/dist-packages (from matplotlib) (3.2.0)\n",
            "Requirement already satisfied: python-dateutil>=2.7 in /usr/local/lib/python3.10/dist-packages (from matplotlib) (2.8.2)\n",
            "Requirement already satisfied: pandas>=1.2 in /usr/local/lib/python3.10/dist-packages (from seaborn) (2.2.2)\n",
            "Requirement already satisfied: scipy>=1.6.0 in /usr/local/lib/python3.10/dist-packages (from scikit-learn) (1.13.1)\n",
            "Requirement already satisfied: joblib>=1.2.0 in /usr/local/lib/python3.10/dist-packages (from scikit-learn) (1.4.2)\n",
            "Requirement already satisfied: threadpoolctl>=3.1.0 in /usr/local/lib/python3.10/dist-packages (from scikit-learn) (3.5.0)\n",
            "Requirement already satisfied: wheel<1.0,>=0.23.0 in /usr/local/lib/python3.10/dist-packages (from astunparse>=1.6.0->tensorflow) (0.45.0)\n",
            "Requirement already satisfied: rich in /usr/local/lib/python3.10/dist-packages (from keras>=3.2.0->tensorflow) (13.9.4)\n",
            "Requirement already satisfied: namex in /usr/local/lib/python3.10/dist-packages (from keras>=3.2.0->tensorflow) (0.0.8)\n",
            "Requirement already satisfied: optree in /usr/local/lib/python3.10/dist-packages (from keras>=3.2.0->tensorflow) (0.13.1)\n",
            "Requirement already satisfied: pytz>=2020.1 in /usr/local/lib/python3.10/dist-packages (from pandas>=1.2->seaborn) (2024.2)\n",
            "Requirement already satisfied: tzdata>=2022.7 in /usr/local/lib/python3.10/dist-packages (from pandas>=1.2->seaborn) (2024.2)\n",
            "Requirement already satisfied: charset-normalizer<4,>=2 in /usr/local/lib/python3.10/dist-packages (from requests<3,>=2.21.0->tensorflow) (3.4.0)\n",
            "Requirement already satisfied: idna<4,>=2.5 in /usr/local/lib/python3.10/dist-packages (from requests<3,>=2.21.0->tensorflow) (3.10)\n",
            "Requirement already satisfied: urllib3<3,>=1.21.1 in /usr/local/lib/python3.10/dist-packages (from requests<3,>=2.21.0->tensorflow) (2.2.3)\n",
            "Requirement already satisfied: certifi>=2017.4.17 in /usr/local/lib/python3.10/dist-packages (from requests<3,>=2.21.0->tensorflow) (2024.8.30)\n",
            "Requirement already satisfied: markdown>=2.6.8 in /usr/local/lib/python3.10/dist-packages (from tensorboard<2.18,>=2.17->tensorflow) (3.7)\n",
            "Requirement already satisfied: tensorboard-data-server<0.8.0,>=0.7.0 in /usr/local/lib/python3.10/dist-packages (from tensorboard<2.18,>=2.17->tensorflow) (0.7.2)\n",
            "Requirement already satisfied: werkzeug>=1.0.1 in /usr/local/lib/python3.10/dist-packages (from tensorboard<2.18,>=2.17->tensorflow) (3.1.3)\n",
            "Requirement already satisfied: MarkupSafe>=2.1.1 in /usr/local/lib/python3.10/dist-packages (from werkzeug>=1.0.1->tensorboard<2.18,>=2.17->tensorflow) (3.0.2)\n",
            "Requirement already satisfied: markdown-it-py>=2.2.0 in /usr/local/lib/python3.10/dist-packages (from rich->keras>=3.2.0->tensorflow) (3.0.0)\n",
            "Requirement already satisfied: pygments<3.0.0,>=2.13.0 in /usr/local/lib/python3.10/dist-packages (from rich->keras>=3.2.0->tensorflow) (2.18.0)\n",
            "Requirement already satisfied: mdurl~=0.1 in /usr/local/lib/python3.10/dist-packages (from markdown-it-py>=2.2.0->rich->keras>=3.2.0->tensorflow) (0.1.2)\n"
          ]
        }
      ],
      "source": [
        "!pip install tensorflow numpy matplotlib seaborn scikit-learn pillow"
      ]
    },
    {
      "cell_type": "markdown",
      "metadata": {
        "id": "lC1ZNwqvndF8"
      },
      "source": [
        "#imports"
      ]
    },
    {
      "cell_type": "code",
      "execution_count": null,
      "metadata": {
        "id": "epaJoZz6nfsZ"
      },
      "outputs": [],
      "source": [
        "import os\n",
        "import numpy as np\n",
        "import tensorflow as tf\n",
        "from tensorflow import keras\n",
        "from tensorflow.keras.layers import GRU, Dense, Dropout, TimeDistributed, BatchNormalization, LayerNormalization\n",
        "from tensorflow.keras.preprocessing.image import load_img, img_to_array\n",
        "from tensorflow.keras.utils import to_categorical\n",
        "from tensorflow.keras.optimizers import Adam\n",
        "from tensorflow.keras.regularizers import l1_l2\n",
        "from tensorflow.keras.callbacks import EarlyStopping, ReduceLROnPlateau, ModelCheckpoint\n",
        "from sklearn.model_selection import train_test_split\n",
        "from sklearn.preprocessing import LabelEncoder\n",
        "import matplotlib.pyplot as plt\n",
        "import pickle\n",
        "from tensorflow.keras import mixed_precision"
      ]
    },
    {
      "cell_type": "markdown",
      "metadata": {
        "id": "9jxpIdcUFILQ"
      },
      "source": [
        "#configuration"
      ]
    },
    {
      "cell_type": "code",
      "execution_count": null,
      "metadata": {
        "id": "N86UGJ5dFILR"
      },
      "outputs": [],
      "source": [
        "# Configuration\n",
        "IMG_SIZE = 224\n",
        "SEQUENCE_LENGTH = 5  # Adjusting for 5 frames per sequence, update as needed\n",
        "BATCH_SIZE = 8\n",
        "EPOCHS = 20\n",
        "DATA_DIR = \"/content/drive/My Drive/ASL_to_Text_Project/data\"\n",
        "MODEL_DIR = \"/content/drive/My Drive/ASL_to_Text_Project/models\"\n",
        "LABELS_DIR = \"/content/drive/My Drive/ASL_to_Text_Project/labels\"\n",
        "RNN_MODEL_PATH = os.path.join(MODEL_DIR, \"rnn_asl_model.keras\")\n",
        "RNN_LABEL_PATH = os.path.join(LABELS_DIR, \"rnn_label_encoder.pkl\")\n",
        "CHECKPOINT_PATH = os.path.join(MODEL_DIR, \"model_checkpoint.keras\")\n",
        "\n",
        "# Create directories if they don't exist\n",
        "os.makedirs(MODEL_DIR, exist_ok=True)\n",
        "os.makedirs(LABELS_DIR, exist_ok=True)"
      ]
    },
    {
      "cell_type": "markdown",
      "metadata": {
        "id": "pXE_dgWfF3u0"
      },
      "source": [
        "#load and preprocess images"
      ]
    },
    {
      "cell_type": "code",
      "execution_count": null,
      "metadata": {
        "id": "KgajHabBF1W4"
      },
      "outputs": [],
      "source": [
        "# Load and preprocess image\n",
        "def load_and_preprocess_image(path):\n",
        "    try:\n",
        "        if not os.path.exists(path):\n",
        "            print(f\"Image not found: {path}\")\n",
        "            return None\n",
        "\n",
        "        img = load_img(path, target_size=(IMG_SIZE, IMG_SIZE))\n",
        "        img_array = img_to_array(img) / 255.0\n",
        "        return img_array\n",
        "    except Exception as e:\n",
        "        print(f\"Error loading image {path}: {e}\")\n",
        "        return None"
      ]
    },
    {
      "cell_type": "markdown",
      "metadata": {
        "id": "W7SluLZgF853"
      },
      "source": [
        "# Data Generator"
      ]
    },
    {
      "cell_type": "code",
      "execution_count": null,
      "metadata": {
        "id": "P3oBdB2yF9Pf"
      },
      "outputs": [],
      "source": [
        "def data_generator(paths, label_encoder, mode=\"train\"):\n",
        "    num_samples = len(paths)\n",
        "    indices = np.arange(num_samples)\n",
        "\n",
        "    print(f\"Generating data in {mode} mode\")\n",
        "    print(f\"Total paths: {num_samples}\")\n",
        "    print(f\"Label classes: {label_encoder.classes_}\")\n",
        "\n",
        "    while True:\n",
        "        if mode == \"train\":\n",
        "            np.random.shuffle(indices)\n",
        "\n",
        "        for start_idx in range(0, num_samples, BATCH_SIZE):\n",
        "            batch_indices = indices[start_idx:start_idx + BATCH_SIZE]\n",
        "            batch_paths = [paths[i] for i in batch_indices]\n",
        "\n",
        "            X, y = [], []\n",
        "            for path in batch_paths:\n",
        "                sequence = []\n",
        "                label = path.split('/')[-2]  # Extract the gesture label from the folder name\n",
        "\n",
        "                # Loop through the frame files (adjust the filename pattern as necessary)\n",
        "                image_files = sorted([f for f in os.listdir(path) if f.endswith(('.jpg', '.jpeg', '.png'))])\n",
        "\n",
        "                # Ensure there are enough frames (pad if necessary)\n",
        "                if len(image_files) < SEQUENCE_LENGTH:\n",
        "                    image_files.extend([None] * (SEQUENCE_LENGTH - len(image_files)))  # Padding with None\n",
        "\n",
        "                for i in range(SEQUENCE_LENGTH):\n",
        "                    frame_filename = image_files[i]\n",
        "\n",
        "                    if frame_filename:\n",
        "                        frame_path = os.path.join(path, frame_filename)\n",
        "                        image = load_and_preprocess_image(frame_path)\n",
        "                    else:\n",
        "                        # If the image is missing (i.e., padding), create a dummy image (zeros)\n",
        "                        image = np.zeros((IMG_SIZE, IMG_SIZE, 3))\n",
        "\n",
        "                    # Apply augmentations if in training mode\n",
        "                    if mode == \"train\":\n",
        "                        image = tf.image.random_brightness(image, 0.2)\n",
        "                        image = tf.image.random_contrast(image, 0.8, 1.2)\n",
        "                        if np.random.rand() > 0.5:\n",
        "                            image = tf.image.flip_left_right(image)\n",
        "\n",
        "                    sequence.append(image)\n",
        "\n",
        "                # Add the sequence and the corresponding label to the batch\n",
        "                if len(sequence) == SEQUENCE_LENGTH:\n",
        "                    X.append(sequence)\n",
        "                    y.append(label_encoder.transform([label])[0])  # Convert label to numeric\n",
        "\n",
        "            if len(X) > 0:\n",
        "                yield np.array(X), to_categorical(y, num_classes=len(label_encoder.classes_))\n",
        "\n"
      ]
    },
    {
      "cell_type": "markdown",
      "metadata": {
        "id": "_VPbjFoGF-O9"
      },
      "source": [
        "# mixed precision"
      ]
    },
    {
      "cell_type": "code",
      "execution_count": null,
      "metadata": {
        "id": "4U9UBfjaF4h-"
      },
      "outputs": [],
      "source": [
        "# Mixed precision\n",
        "mixed_precision.set_global_policy('mixed_float16')"
      ]
    },
    {
      "cell_type": "markdown",
      "metadata": {
        "id": "Nl_sJQ-jF-7Q"
      },
      "source": [
        "# Build the RNN model"
      ]
    },
    {
      "cell_type": "code",
      "execution_count": null,
      "metadata": {
        "id": "oz7qC46LF_NO"
      },
      "outputs": [],
      "source": [
        "# Build the RNN model\n",
        "def build_model(num_classes, dropout_rate=0.3, l1_reg=1e-5, l2_reg=1e-4):\n",
        "    model = keras.Sequential([\n",
        "        # Input layer\n",
        "        keras.layers.Input(shape=(SEQUENCE_LENGTH, IMG_SIZE, IMG_SIZE, 3)),\n",
        "\n",
        "        # Feature extraction layers with L1/L2 regularization\n",
        "        TimeDistributed(keras.layers.Conv2D(32, (3, 3), activation='relu', padding='same', kernel_regularizer=l1_l2(l1=l1_reg, l2=l2_reg))),\n",
        "        TimeDistributed(keras.layers.MaxPooling2D((2, 2))),\n",
        "        TimeDistributed(keras.layers.Conv2D(64, (3, 3), activation='relu', padding='same', kernel_regularizer=l1_l2(l1=l1_reg, l2=l2_reg))),\n",
        "        TimeDistributed(keras.layers.MaxPooling2D((2, 2))),\n",
        "        TimeDistributed(keras.layers.Conv2D(128, (3, 3), activation='relu', padding='same', kernel_regularizer=l1_l2(l1=l1_reg, l2=l2_reg))),\n",
        "        TimeDistributed(keras.layers.MaxPooling2D((2, 2))),\n",
        "        TimeDistributed(keras.layers.Flatten()),\n",
        "\n",
        "        # GRU layer with L1/L2 regularization\n",
        "        GRU(64,\n",
        "            dropout=dropout_rate,\n",
        "            recurrent_dropout=dropout_rate / 2,\n",
        "            return_sequences=False,\n",
        "            kernel_regularizer=l1_l2(l1=l1_reg, l2=l2_reg),\n",
        "            recurrent_regularizer=l1_l2(l1=l1_reg, l2=l2_reg)\n",
        "        ),\n",
        "\n",
        "        # Classification layers with L1/L2 regularization\n",
        "        Dropout(dropout_rate),\n",
        "        Dense(num_classes, activation='softmax', kernel_regularizer=l1_l2(l1=l1_reg, l2=l2_reg))\n",
        "    ])\n",
        "    return model\n",
        "\n",
        "def compile_model(model, learning_rate=0.0005):\n",
        "    optimizer = Adam(learning_rate=learning_rate)\n",
        "    model.compile(optimizer=optimizer, loss='categorical_crossentropy', metrics=['accuracy'])\n",
        "    return model"
      ]
    },
    {
      "cell_type": "markdown",
      "metadata": {
        "id": "lJGk_YTVGB3M"
      },
      "source": [
        "# Main execution"
      ]
    },
    {
      "cell_type": "code",
      "execution_count": null,
      "metadata": {
        "colab": {
          "base_uri": "https://localhost:8080/",
          "height": 1000
        },
        "id": "zdvNnrk8GCb4",
        "outputId": "26223ad3-48b0-4089-cea6-4647b8ddb1f1"
      },
      "outputs": [
        {
          "output_type": "stream",
          "name": "stdout",
          "text": [
            "\n",
            "Total sequences found: 1454\n",
            "Unique gestures found: 3\n",
            "\n",
            "Training on 1017 samples\n",
            "Validating on 218 samples\n",
            "Generating data in train mode\n",
            "Total paths: 1017\n",
            "Label classes: ['No' 'Thank_you' 'Yes']\n",
            "Epoch 1/20\n",
            "\u001b[1m127/127\u001b[0m \u001b[32m━━━━━━━━━━━━━━━━━━━━\u001b[0m\u001b[37m\u001b[0m \u001b[1m0s\u001b[0m 22s/step - accuracy: 0.7431 - loss: 5.3126 Generating data in val mode\n",
            "Total paths: 218\n",
            "Label classes: ['No' 'Thank_you' 'Yes']\n",
            "\n",
            "Epoch 1: val_loss improved from inf to 1.18613, saving model to /content/drive/My Drive/ASL_to_Text_Project/models/model_checkpoint.keras\n",
            "\u001b[1m127/127\u001b[0m \u001b[32m━━━━━━━━━━━━━━━━━━━━\u001b[0m\u001b[37m\u001b[0m \u001b[1m3420s\u001b[0m 27s/step - accuracy: 0.7444 - loss: 5.2948 - val_accuracy: 1.0000 - val_loss: 1.1861 - learning_rate: 0.0010\n",
            "Epoch 2/20\n",
            "\u001b[1m127/127\u001b[0m \u001b[32m━━━━━━━━━━━━━━━━━━━━\u001b[0m\u001b[37m\u001b[0m \u001b[1m0s\u001b[0m 247ms/step - accuracy: 0.9944 - loss: 0.9222\n",
            "Epoch 2: val_loss improved from 1.18613 to 0.63169, saving model to /content/drive/My Drive/ASL_to_Text_Project/models/model_checkpoint.keras\n",
            "\u001b[1m127/127\u001b[0m \u001b[32m━━━━━━━━━━━━━━━━━━━━\u001b[0m\u001b[37m\u001b[0m \u001b[1m37s\u001b[0m 290ms/step - accuracy: 0.9944 - loss: 0.9213 - val_accuracy: 1.0000 - val_loss: 0.6317 - learning_rate: 0.0010\n",
            "Epoch 3/20\n",
            "\u001b[1m127/127\u001b[0m \u001b[32m━━━━━━━━━━━━━━━━━━━━\u001b[0m\u001b[37m\u001b[0m \u001b[1m0s\u001b[0m 243ms/step - accuracy: 1.0000 - loss: 0.5198\n",
            "Epoch 3: val_loss improved from 0.63169 to 0.31970, saving model to /content/drive/My Drive/ASL_to_Text_Project/models/model_checkpoint.keras\n",
            "\u001b[1m127/127\u001b[0m \u001b[32m━━━━━━━━━━━━━━━━━━━━\u001b[0m\u001b[37m\u001b[0m \u001b[1m36s\u001b[0m 287ms/step - accuracy: 1.0000 - loss: 0.5192 - val_accuracy: 1.0000 - val_loss: 0.3197 - learning_rate: 0.0010\n",
            "Epoch 4/20\n",
            "\u001b[1m127/127\u001b[0m \u001b[32m━━━━━━━━━━━━━━━━━━━━\u001b[0m\u001b[37m\u001b[0m \u001b[1m0s\u001b[0m 234ms/step - accuracy: 0.9992 - loss: 0.3273\n",
            "Epoch 4: val_loss did not improve from 0.31970\n",
            "\u001b[1m127/127\u001b[0m \u001b[32m━━━━━━━━━━━━━━━━━━━━\u001b[0m\u001b[37m\u001b[0m \u001b[1m33s\u001b[0m 264ms/step - accuracy: 0.9992 - loss: 0.3275 - val_accuracy: 1.0000 - val_loss: 0.3378 - learning_rate: 0.0010\n",
            "Epoch 5/20\n",
            "\u001b[1m127/127\u001b[0m \u001b[32m━━━━━━━━━━━━━━━━━━━━\u001b[0m\u001b[37m\u001b[0m \u001b[1m0s\u001b[0m 219ms/step - accuracy: 0.9990 - loss: 0.3241\n",
            "Epoch 5: val_loss improved from 0.31970 to 0.30771, saving model to /content/drive/My Drive/ASL_to_Text_Project/models/model_checkpoint.keras\n",
            "\u001b[1m127/127\u001b[0m \u001b[32m━━━━━━━━━━━━━━━━━━━━\u001b[0m\u001b[37m\u001b[0m \u001b[1m32s\u001b[0m 252ms/step - accuracy: 0.9990 - loss: 0.3240 - val_accuracy: 0.9952 - val_loss: 0.3077 - learning_rate: 0.0010\n",
            "Epoch 6/20\n",
            "\u001b[1m127/127\u001b[0m \u001b[32m━━━━━━━━━━━━━━━━━━━━\u001b[0m\u001b[37m\u001b[0m \u001b[1m0s\u001b[0m 234ms/step - accuracy: 1.0000 - loss: 0.2852\n",
            "Epoch 6: val_loss improved from 0.30771 to 0.27869, saving model to /content/drive/My Drive/ASL_to_Text_Project/models/model_checkpoint.keras\n",
            "\u001b[1m127/127\u001b[0m \u001b[32m━━━━━━━━━━━━━━━━━━━━\u001b[0m\u001b[37m\u001b[0m \u001b[1m32s\u001b[0m 253ms/step - accuracy: 1.0000 - loss: 0.2851 - val_accuracy: 0.9952 - val_loss: 0.2787 - learning_rate: 0.0010\n",
            "Epoch 7/20\n",
            "\u001b[1m127/127\u001b[0m \u001b[32m━━━━━━━━━━━━━━━━━━━━\u001b[0m\u001b[37m\u001b[0m \u001b[1m0s\u001b[0m 241ms/step - accuracy: 0.9924 - loss: 0.3180\n",
            "Epoch 7: val_loss improved from 0.27869 to 0.27855, saving model to /content/drive/My Drive/ASL_to_Text_Project/models/model_checkpoint.keras\n",
            "\u001b[1m127/127\u001b[0m \u001b[32m━━━━━━━━━━━━━━━━━━━━\u001b[0m\u001b[37m\u001b[0m \u001b[1m33s\u001b[0m 261ms/step - accuracy: 0.9925 - loss: 0.3179 - val_accuracy: 1.0000 - val_loss: 0.2786 - learning_rate: 0.0010\n",
            "Epoch 8/20\n",
            "\u001b[1m127/127\u001b[0m \u001b[32m━━━━━━━━━━━━━━━━━━━━\u001b[0m\u001b[37m\u001b[0m \u001b[1m0s\u001b[0m 242ms/step - accuracy: 1.0000 - loss: 0.2715\n",
            "Epoch 8: val_loss improved from 0.27855 to 0.25072, saving model to /content/drive/My Drive/ASL_to_Text_Project/models/model_checkpoint.keras\n",
            "\u001b[1m127/127\u001b[0m \u001b[32m━━━━━━━━━━━━━━━━━━━━\u001b[0m\u001b[37m\u001b[0m \u001b[1m33s\u001b[0m 261ms/step - accuracy: 1.0000 - loss: 0.2714 - val_accuracy: 1.0000 - val_loss: 0.2507 - learning_rate: 0.0010\n",
            "Epoch 9/20\n",
            "\u001b[1m127/127\u001b[0m \u001b[32m━━━━━━━━━━━━━━━━━━━━\u001b[0m\u001b[37m\u001b[0m \u001b[1m0s\u001b[0m 241ms/step - accuracy: 1.0000 - loss: 0.2511\n",
            "Epoch 9: val_loss did not improve from 0.25072\n",
            "\u001b[1m127/127\u001b[0m \u001b[32m━━━━━━━━━━━━━━━━━━━━\u001b[0m\u001b[37m\u001b[0m \u001b[1m31s\u001b[0m 244ms/step - accuracy: 1.0000 - loss: 0.2511 - val_accuracy: 1.0000 - val_loss: 0.2635 - learning_rate: 0.0010\n",
            "Epoch 10/20\n",
            "\u001b[1m127/127\u001b[0m \u001b[32m━━━━━━━━━━━━━━━━━━━━\u001b[0m\u001b[37m\u001b[0m \u001b[1m0s\u001b[0m 241ms/step - accuracy: 1.0000 - loss: 0.2678\n",
            "Epoch 10: val_loss did not improve from 0.25072\n",
            "\u001b[1m127/127\u001b[0m \u001b[32m━━━━━━━━━━━━━━━━━━━━\u001b[0m\u001b[37m\u001b[0m \u001b[1m31s\u001b[0m 244ms/step - accuracy: 1.0000 - loss: 0.2678 - val_accuracy: 1.0000 - val_loss: 0.2690 - learning_rate: 0.0010\n",
            "Epoch 11/20\n",
            "\u001b[1m127/127\u001b[0m \u001b[32m━━━━━━━━━━━━━━━━━━━━\u001b[0m\u001b[37m\u001b[0m \u001b[1m0s\u001b[0m 241ms/step - accuracy: 0.9974 - loss: 0.2822\n",
            "Epoch 11: ReduceLROnPlateau reducing learning rate to 0.0005000000237487257.\n",
            "\n",
            "Epoch 11: val_loss did not improve from 0.25072\n",
            "\u001b[1m127/127\u001b[0m \u001b[32m━━━━━━━━━━━━━━━━━━━━\u001b[0m\u001b[37m\u001b[0m \u001b[1m31s\u001b[0m 244ms/step - accuracy: 0.9974 - loss: 0.2822 - val_accuracy: 1.0000 - val_loss: 0.2760 - learning_rate: 0.0010\n",
            "Epoch 12/20\n",
            "\u001b[1m127/127\u001b[0m \u001b[32m━━━━━━━━━━━━━━━━━━━━\u001b[0m\u001b[37m\u001b[0m \u001b[1m0s\u001b[0m 239ms/step - accuracy: 1.0000 - loss: 0.1943\n",
            "Epoch 12: val_loss improved from 0.25072 to 0.16851, saving model to /content/drive/My Drive/ASL_to_Text_Project/models/model_checkpoint.keras\n",
            "\u001b[1m127/127\u001b[0m \u001b[32m━━━━━━━━━━━━━━━━━━━━\u001b[0m\u001b[37m\u001b[0m \u001b[1m33s\u001b[0m 259ms/step - accuracy: 1.0000 - loss: 0.1941 - val_accuracy: 1.0000 - val_loss: 0.1685 - learning_rate: 5.0000e-04\n",
            "Epoch 13/20\n",
            "\u001b[1m127/127\u001b[0m \u001b[32m━━━━━━━━━━━━━━━━━━━━\u001b[0m\u001b[37m\u001b[0m \u001b[1m0s\u001b[0m 244ms/step - accuracy: 1.0000 - loss: 0.1557\n",
            "Epoch 13: val_loss improved from 0.16851 to 0.15824, saving model to /content/drive/My Drive/ASL_to_Text_Project/models/model_checkpoint.keras\n",
            "\u001b[1m127/127\u001b[0m \u001b[32m━━━━━━━━━━━━━━━━━━━━\u001b[0m\u001b[37m\u001b[0m \u001b[1m33s\u001b[0m 263ms/step - accuracy: 1.0000 - loss: 0.1557 - val_accuracy: 1.0000 - val_loss: 0.1582 - learning_rate: 5.0000e-04\n",
            "Epoch 14/20\n",
            "\u001b[1m127/127\u001b[0m \u001b[32m━━━━━━━━━━━━━━━━━━━━\u001b[0m\u001b[37m\u001b[0m \u001b[1m0s\u001b[0m 244ms/step - accuracy: 0.9998 - loss: 0.1467\n",
            "Epoch 14: val_loss did not improve from 0.15824\n",
            "\u001b[1m127/127\u001b[0m \u001b[32m━━━━━━━━━━━━━━━━━━━━\u001b[0m\u001b[37m\u001b[0m \u001b[1m31s\u001b[0m 247ms/step - accuracy: 0.9998 - loss: 0.1467 - val_accuracy: 1.0000 - val_loss: 0.1743 - learning_rate: 5.0000e-04\n",
            "Epoch 15/20\n",
            "\u001b[1m127/127\u001b[0m \u001b[32m━━━━━━━━━━━━━━━━━━━━\u001b[0m\u001b[37m\u001b[0m \u001b[1m0s\u001b[0m 244ms/step - accuracy: 1.0000 - loss: 0.1647\n",
            "Epoch 15: val_loss improved from 0.15824 to 0.14884, saving model to /content/drive/My Drive/ASL_to_Text_Project/models/model_checkpoint.keras\n",
            "\u001b[1m127/127\u001b[0m \u001b[32m━━━━━━━━━━━━━━━━━━━━\u001b[0m\u001b[37m\u001b[0m \u001b[1m33s\u001b[0m 263ms/step - accuracy: 1.0000 - loss: 0.1646 - val_accuracy: 1.0000 - val_loss: 0.1488 - learning_rate: 5.0000e-04\n",
            "Epoch 16/20\n",
            "\u001b[1m127/127\u001b[0m \u001b[32m━━━━━━━━━━━━━━━━━━━━\u001b[0m\u001b[37m\u001b[0m \u001b[1m0s\u001b[0m 242ms/step - accuracy: 1.0000 - loss: 0.1507\n",
            "Epoch 16: val_loss did not improve from 0.14884\n",
            "\u001b[1m127/127\u001b[0m \u001b[32m━━━━━━━━━━━━━━━━━━━━\u001b[0m\u001b[37m\u001b[0m \u001b[1m31s\u001b[0m 245ms/step - accuracy: 1.0000 - loss: 0.1507 - val_accuracy: 1.0000 - val_loss: 0.1580 - learning_rate: 5.0000e-04\n",
            "Epoch 17/20\n",
            "\u001b[1m127/127\u001b[0m \u001b[32m━━━━━━━━━━━━━━━━━━━━\u001b[0m\u001b[37m\u001b[0m \u001b[1m0s\u001b[0m 241ms/step - accuracy: 1.0000 - loss: 0.1439\n",
            "Epoch 17: val_loss improved from 0.14884 to 0.13578, saving model to /content/drive/My Drive/ASL_to_Text_Project/models/model_checkpoint.keras\n",
            "\u001b[1m127/127\u001b[0m \u001b[32m━━━━━━━━━━━━━━━━━━━━\u001b[0m\u001b[37m\u001b[0m \u001b[1m33s\u001b[0m 260ms/step - accuracy: 1.0000 - loss: 0.1439 - val_accuracy: 1.0000 - val_loss: 0.1358 - learning_rate: 5.0000e-04\n",
            "Epoch 18/20\n",
            "\u001b[1m127/127\u001b[0m \u001b[32m━━━━━━━━━━━━━━━━━━━━\u001b[0m\u001b[37m\u001b[0m \u001b[1m0s\u001b[0m 243ms/step - accuracy: 1.0000 - loss: 0.1447\n",
            "Epoch 18: val_loss did not improve from 0.13578\n",
            "\u001b[1m127/127\u001b[0m \u001b[32m━━━━━━━━━━━━━━━━━━━━\u001b[0m\u001b[37m\u001b[0m \u001b[1m31s\u001b[0m 246ms/step - accuracy: 1.0000 - loss: 0.1447 - val_accuracy: 1.0000 - val_loss: 0.1458 - learning_rate: 5.0000e-04\n",
            "Epoch 19/20\n",
            "\u001b[1m127/127\u001b[0m \u001b[32m━━━━━━━━━━━━━━━━━━━━\u001b[0m\u001b[37m\u001b[0m \u001b[1m0s\u001b[0m 242ms/step - accuracy: 1.0000 - loss: 0.1388\n",
            "Epoch 19: val_loss did not improve from 0.13578\n",
            "\u001b[1m127/127\u001b[0m \u001b[32m━━━━━━━━━━━━━━━━━━━━\u001b[0m\u001b[37m\u001b[0m \u001b[1m31s\u001b[0m 245ms/step - accuracy: 1.0000 - loss: 0.1388 - val_accuracy: 1.0000 - val_loss: 0.1806 - learning_rate: 5.0000e-04\n",
            "Epoch 20/20\n",
            "\u001b[1m127/127\u001b[0m \u001b[32m━━━━━━━━━━━━━━━━━━━━\u001b[0m\u001b[37m\u001b[0m \u001b[1m0s\u001b[0m 240ms/step - accuracy: 1.0000 - loss: 0.1679\n",
            "Epoch 20: ReduceLROnPlateau reducing learning rate to 0.0002500000118743628.\n",
            "\n",
            "Epoch 20: val_loss did not improve from 0.13578\n",
            "\u001b[1m127/127\u001b[0m \u001b[32m━━━━━━━━━━━━━━━━━━━━\u001b[0m\u001b[37m\u001b[0m \u001b[1m31s\u001b[0m 243ms/step - accuracy: 1.0000 - loss: 0.1679 - val_accuracy: 1.0000 - val_loss: 0.1556 - learning_rate: 5.0000e-04\n",
            "Restoring model weights from the end of the best epoch: 17.\n"
          ]
        },
        {
          "output_type": "stream",
          "name": "stderr",
          "text": [
            "WARNING:absl:You are saving your model as an HDF5 file via `model.save()` or `keras.saving.save_model(model)`. This file format is considered legacy. We recommend using instead the native Keras format, e.g. `model.save('my_model.keras')` or `keras.saving.save_model(model, 'my_model.keras')`. \n"
          ]
        },
        {
          "output_type": "display_data",
          "data": {
            "text/plain": [
              "<Figure size 640x480 with 1 Axes>"
            ],
            "image/png": "[encoded data removed]"
          },
          "metadata": {}
        }
      ],
      "source": [
        "# Main execution\n",
        "if __name__ == \"__main__\":\n",
        "    # Define gesture categories (update as needed)\n",
        "    gesture_categories = ['Yes', 'No', 'Thank_you']  # Example gestures, update with real ones\n",
        "\n",
        "    # Load data paths and labels\n",
        "    all_paths, labels = [], []\n",
        "    for gesture in gesture_categories:\n",
        "        gesture_dir = os.path.join(DATA_DIR, \"gesture_sequences\", gesture)\n",
        "        if not os.path.isdir(gesture_dir):\n",
        "            print(f\"Gesture directory not found: {gesture_dir}\")\n",
        "            continue\n",
        "\n",
        "        for sequence_dir in os.listdir(gesture_dir):\n",
        "            sequence_path = os.path.join(gesture_dir, sequence_dir)\n",
        "            if os.path.isdir(sequence_path):\n",
        "                # Ensure the sequence folder contains images (e.g., .jpg, .png)\n",
        "                image_files = [f for f in os.listdir(sequence_path) if f.endswith(('.jpg', '.jpeg', '.png'))]\n",
        "                if not image_files:\n",
        "                    print(f\"No image files found in sequence: {sequence_path}\")\n",
        "                    continue\n",
        "\n",
        "                # Add the sequence path and label\n",
        "                all_paths.append(sequence_path)\n",
        "                labels.append(gesture)\n",
        "\n",
        "    print(f\"\\nTotal sequences found: {len(all_paths)}\")\n",
        "    print(f\"Unique gestures found: {len(set(labels))}\")\n",
        "\n",
        "    # Create label encoder\n",
        "    label_encoder = LabelEncoder()\n",
        "    label_encoder.fit(gesture_categories)\n",
        "    num_classes = len(label_encoder.classes_)\n",
        "\n",
        "    # Split data\n",
        "    train_paths, temp_paths = train_test_split(all_paths, test_size=0.3, random_state=42)\n",
        "    val_paths, test_paths = train_test_split(temp_paths, test_size=0.5, random_state=42)\n",
        "\n",
        "    # Create generators\n",
        "    train_generator = data_generator(train_paths, label_encoder)\n",
        "    val_generator = data_generator(val_paths, label_encoder, mode=\"val\")\n",
        "\n",
        "    train_steps = max(1, len(train_paths) // BATCH_SIZE)\n",
        "    val_steps = max(1, len(val_paths) // BATCH_SIZE)\n",
        "\n",
        "    print(f\"\\nTraining on {len(train_paths)} samples\")\n",
        "    print(f\"Validating on {len(val_paths)} samples\")\n",
        "\n",
        "    # Build and compile model\n",
        "    model = build_model(num_classes, dropout_rate=0.3, l1_reg=1e-4, l2_reg=1e-3)\n",
        "    model = compile_model(model, learning_rate=0.001)\n",
        "\n",
        "    # Callbacks\n",
        "    callbacks = [\n",
        "        EarlyStopping(monitor='val_loss', patience=5, restore_best_weights=True, verbose=1),\n",
        "        ReduceLROnPlateau(monitor='val_loss', factor=0.5, patience=3, min_lr=1e-6, verbose=1),\n",
        "        ModelCheckpoint(CHECKPOINT_PATH, monitor='val_loss', save_best_only=True, verbose=1)\n",
        "    ]\n",
        "\n",
        "    # Train the model\n",
        "    history = model.fit(\n",
        "        train_generator,\n",
        "        steps_per_epoch=train_steps,\n",
        "        epochs=EPOCHS,\n",
        "        validation_data=val_generator,\n",
        "        validation_steps=val_steps,\n",
        "        callbacks=callbacks\n",
        "    )\n",
        "\n",
        "    # Save the model and label encoder\n",
        "    model.save(RNN_MODEL_PATH)\n",
        "    with open(RNN_LABEL_PATH, \"wb\") as f:\n",
        "        pickle.dump(label_encoder, f)\n",
        "\n",
        "    # Plot accuracy and loss\n",
        "    plt.plot(history.history['accuracy'], label='train_accuracy')\n",
        "    plt.plot(history.history['val_accuracy'], label='val_accuracy')\n",
        "    plt.plot(history.history['loss'], label='train_loss')\n",
        "    plt.plot(history.history['val_loss'], label='val_loss')\n",
        "    plt.legend()\n",
        "    plt.show()\n"
      ]
    }
  ],
  "metadata": {
    "accelerator": "GPU",
    "colab": {
      "gpuType": "A100",
      "machine_shape": "hm",
      "provenance": []
    },
    "kernelspec": {
      "display_name": "Python 3",
      "name": "python3"
    },
    "language_info": {
      "name": "python"
    }
  },
  "nbformat": 4,
  "nbformat_minor": 0
}